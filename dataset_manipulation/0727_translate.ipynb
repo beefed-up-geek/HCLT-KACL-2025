{
 "cells": [
  {
   "cell_type": "code",
   "execution_count": null,
   "id": "b5e85160",
   "metadata": {},
   "outputs": [],
   "source": [
    "import json\n",
    "\n",
    "# JSON 파일 경로 지정\n",
    "json_path = '../dataset/dev.json'  # ← 실제 파일명으로 바꿔주세요\n",
    "\n",
    "# JSON 파일 열기 및 데이터 불러오기\n",
    "with open(json_path, 'r', encoding='utf-8') as f:\n",
    "    data = json.load(f)\n",
    "\n",
    "# 대화 문장만 추출\n",
    "all_conversations = []\n",
    "\n",
    "for entry in data:\n",
    "    conversation = entry[\"input\"][\"conversation\"]\n",
    "    for turn in conversation:\n",
    "        utterance = turn[\"utterance\"]\n",
    "        all_conversations.append({\n",
    "            \"id\": entry[\"id\"],\n",
    "            \"utterance_id\": turn[\"utterance_id\"],\n",
    "            \"speaker\": turn[\"speaker\"],\n",
    "            \"utterance\": utterance\n",
    "        })\n",
    "\n",
    "# 결과 미리보기\n",
    "for conv in all_conversations[:5]:\n",
    "    print(conv)\n"
   ]
  }
 ],
 "metadata": {
  "kernelspec": {
   "display_name": "multi-agent",
   "language": "python",
   "name": "python3"
  },
  "language_info": {
   "name": "python",
   "version": "3.13.5"
  }
 },
 "nbformat": 4,
 "nbformat_minor": 5
}
