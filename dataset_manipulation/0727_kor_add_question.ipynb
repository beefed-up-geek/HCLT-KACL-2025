{
 "cells": [
  {
   "cell_type": "code",
   "execution_count": 4,
   "id": "f1228e83",
   "metadata": {},
   "outputs": [],
   "source": [
    "import json\n",
    "from pathlib import Path\n",
    "from tqdm import tqdm   # 진행바\n",
    "\n",
    "CATEGORY_QUESTION_MAP = {\n",
    "    \"원인\":    \"앞선 내용에서 사건이 일어난 이유를 가장 잘 설명하는 선지를 선택하십시오.\",\n",
    "    \"후행사건\": \"위 대화 이후 일어날 가능성이 가장 높은 ‘다음 사건’을 선택하세요.\",\n",
    "    \"전제\": \"해당 사건이 성립하려면 어떤 상태가 먼저 갖춰져야 하나요?\",\n",
    "    \"동기\": \"위 대화를 참고해 화자의 내부 동기 혹은 욕구로 가장 적절한 선지를 고르세요.\",\n",
    "    \"반응\": \"위 대화에서 화자가 보이는 감정 상태를 선택하십시오.\"\n",
    "}"
   ]
  },
  {
   "cell_type": "code",
   "execution_count": 5,
   "id": "5a510f07",
   "metadata": {},
   "outputs": [],
   "source": [
    "input_path  = Path(\"../dataset/dev.json\")               \n",
    "output_path = Path(\"../dataset/dev_question_added.json\")\n",
    "\n",
    "with input_path.open(\"r\", encoding=\"utf-8\") as f:\n",
    "    dataset = json.load(f)"
   ]
  },
  {
   "cell_type": "code",
   "execution_count": 6,
   "id": "e9182925",
   "metadata": {},
   "outputs": [
    {
     "name": "stderr",
     "output_type": "stream",
     "text": [
      "Adding questions: 100%|██████████| 151/151 [00:00<00:00, 3840.68sample/s, added=151]"
     ]
    },
    {
     "name": "stdout",
     "output_type": "stream",
     "text": [
      "✅ 질문 151개 추가 완료 · 저장 경로: /Users/taeyoonkwack/Documents/HCLT-KACL-2025/dataset/dev_question_added.json\n"
     ]
    },
    {
     "name": "stderr",
     "output_type": "stream",
     "text": [
      "\n"
     ]
    }
   ],
   "source": [
    "added_cnt = 0\n",
    "pbar = tqdm(dataset, desc=\"Adding questions\", unit=\"sample\")\n",
    "\n",
    "for sample in pbar:\n",
    "    category = sample.get(\"input\", {}).get(\"category\", \"\")\n",
    "    question = CATEGORY_QUESTION_MAP.get(category)\n",
    "\n",
    "    if question:\n",
    "        sample[\"input\"][\"question\"] = question\n",
    "        added_cnt += 1\n",
    "    \n",
    "    # 진행바 우측에 누적 추가 수 표시\n",
    "    pbar.set_postfix({\"added\": added_cnt})\n",
    "\n",
    "pbar.close()\n",
    "\n",
    "with output_path.open(\"w\", encoding=\"utf-8\") as f:\n",
    "    json.dump(dataset, f, ensure_ascii=False, indent=2)\n",
    "\n",
    "print(f\"✅ 질문 {added_cnt}개 추가 완료 · 저장 경로: {output_path.resolve()}\")\n"
   ]
  }
 ],
 "metadata": {
  "kernelspec": {
   "display_name": "multi-agent",
   "language": "python",
   "name": "python3"
  },
  "language_info": {
   "codemirror_mode": {
    "name": "ipython",
    "version": 3
   },
   "file_extension": ".py",
   "mimetype": "text/x-python",
   "name": "python",
   "nbconvert_exporter": "python",
   "pygments_lexer": "ipython3",
   "version": "3.13.5"
  }
 },
 "nbformat": 4,
 "nbformat_minor": 5
}
