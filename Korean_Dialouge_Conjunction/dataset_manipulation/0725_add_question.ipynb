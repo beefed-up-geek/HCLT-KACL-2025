{
 "cells": [
  {
   "cell_type": "code",
   "execution_count": 7,
   "id": "00e6a24d",
   "metadata": {},
   "outputs": [
    {
     "name": "stdout",
     "output_type": "stream",
     "text": [
      "478 records loaded\n",
      "{'id': 'nikluge-2025-일상_대화_연결-test-1',\n",
      " 'input': {'대상발화': '뭘 해서 먹어야 되나 사실 걱정스럽죠잉.',\n",
      "           '발화1': '끼니를 챙기는 것도 걱정이네요.',\n",
      "           '발화2': '나이를 먹는 것도 걱정이네요.',\n",
      "           '발화3': '욕을 먹는 것도 걱정이네요.',\n",
      "           '발화위치': '선행문'}}\n"
     ]
    }
   ],
   "source": [
    "import json, pathlib, pprint\n",
    "\n",
    "SRC = pathlib.Path(\"/Users/taeyoonkwack/Documents/HCLT-KACL-2025/Korean_Dialouge_Conjunction/dataset/original/test.json\")\n",
    "with SRC.open(encoding=\"utf-8\") as f:\n",
    "    data = json.load(f)\n",
    "\n",
    "print(f\"{len(data):,} records loaded\")\n",
    "pprint.pprint(data[0], depth=2)"
   ]
  },
  {
   "cell_type": "code",
   "execution_count": 8,
   "id": "605378b3",
   "metadata": {},
   "outputs": [
    {
     "name": "stdout",
     "output_type": "stream",
     "text": [
      "after patch ⇒\n",
      "{'id': 'nikluge-2025-일상_대화_연결-test-1',\n",
      " 'input': {'question': '위 문장 이전에 왔을 문장으로 가장 적절한 문장을 고르시오.',\n",
      "           '대상발화': '뭘 해서 먹어야 되나 사실 걱정스럽죠잉.',\n",
      "           '발화1': '끼니를 챙기는 것도 걱정이네요.',\n",
      "           '발화2': '나이를 먹는 것도 걱정이네요.',\n",
      "           '발화3': '욕을 먹는 것도 걱정이네요.',\n",
      "           '발화위치': '선행문'}}\n"
     ]
    }
   ],
   "source": [
    "Q_PRE  = \"위 문장 이전에 왔을 문장으로 가장 적절한 문장을 고르시오.\"\n",
    "Q_POST = \"위 문장 이후에 왔을 문장으로 가장 적절한 문장을 고르시오.\"\n",
    "\n",
    "for rec in data:\n",
    "    pos = rec[\"input\"][\"발화위치\"]\n",
    "    rec[\"input\"][\"question\"] = Q_PRE if pos == \"선행문\" else Q_POST\n",
    "\n",
    "print(\"after patch ⇒\"); pprint.pprint(data[0], depth=2)"
   ]
  },
  {
   "cell_type": "code",
   "execution_count": 9,
   "id": "75ed3658",
   "metadata": {},
   "outputs": [
    {
     "name": "stdout",
     "output_type": "stream",
     "text": [
      "✔️ Saved 478 records → /Users/taeyoonkwack/Documents/HCLT-KACL-2025/Korean_Dialouge_Conjunction/dataset/original/test.json\n"
     ]
    }
   ],
   "source": [
    "DST = pathlib.Path(\"/Users/taeyoonkwack/Documents/HCLT-KACL-2025/Korean_Dialouge_Conjunction/dataset/original/test.json\")\n",
    "with DST.open(\"w\", encoding=\"utf-8\") as f:\n",
    "    json.dump(data, f, ensure_ascii=False, indent=2)\n",
    "\n",
    "print(f\"✔️ Saved {len(data):,} records → {DST.resolve()}\")"
   ]
  }
 ],
 "metadata": {
  "kernelspec": {
   "display_name": "multi-agent",
   "language": "python",
   "name": "python3"
  },
  "language_info": {
   "codemirror_mode": {
    "name": "ipython",
    "version": 3
   },
   "file_extension": ".py",
   "mimetype": "text/x-python",
   "name": "python",
   "nbconvert_exporter": "python",
   "pygments_lexer": "ipython3",
   "version": "3.13.5"
  }
 },
 "nbformat": 4,
 "nbformat_minor": 5
}
