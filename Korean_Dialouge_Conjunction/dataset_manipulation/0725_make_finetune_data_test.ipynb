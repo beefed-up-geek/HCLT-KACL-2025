{
 "cells": [
  {
   "cell_type": "code",
   "execution_count": null,
   "id": "16ec1cc2",
   "metadata": {},
   "outputs": [
    {
     "name": "stdout",
     "output_type": "stream",
     "text": [
      "478 samples loaded\n",
      "{'id': 'nikluge-2025-일상_대화_연결-test-1',\n",
      " 'input': {'question': '위의 화자1의 발화 이전에 화자2가 했을 발화로 가장 적절한 것을 고르시오.',\n",
      "           '대상발화': '뭘 해서 먹어야 되나 사실 걱정스럽죠잉.',\n",
      "           '발화1': '끼니를 챙기는 것도 걱정이네요.',\n",
      "           '발화2': '나이를 먹는 것도 걱정이네요.',\n",
      "           '발화3': '욕을 먹는 것도 걱정이네요.',\n",
      "           '발화위치': '선행문'}}\n"
     ]
    }
   ],
   "source": [
    "import json, pathlib, pprint, textwrap\n",
    "\n",
    "SRC = pathlib.Path(\"/Users/taeyoonkwack/Documents/HCLT-KACL-2025/Korean_Dialouge_Conjunction/dataset/original/conjunction_test.json\")         # 업로드된 원본\n",
    "DST = pathlib.Path(\"/Users/taeyoonkwack/Documents/HCLT-KACL-2025/Korean_Dialouge_Conjunction/dataset/finetuning_data/conjunction_test.json\")\n",
    "with SRC.open(encoding=\"utf-8\") as f:\n",
    "    raw = json.load(f)\n",
    "\n",
    "print(f\"{len(raw):,} samples loaded\")\n",
    "pprint.pprint(raw[0], depth=2)"
   ]
  },
  {
   "cell_type": "code",
   "execution_count": 12,
   "id": "07be24ee",
   "metadata": {},
   "outputs": [],
   "source": [
    "def key_to_letter(out: str) -> str:\n",
    "    \"\"\"'발화1'|'발화2'|'발화3' → 'A'|'B'|'C'\"\"\"\n",
    "    return {\"발화1\": \"A\", \"발화2\": \"B\", \"발화3\": \"C\"}[out]\n",
    "\n",
    "SYS_PROMPT = \"당신은 주어진 발화를 듣고 질문에 답을 하는 assistant입니다. 주어진 발화를 듣고 화자1과 화자2의 대화에 대한 질문에 답하시오.\""
   ]
  },
  {
   "cell_type": "code",
   "execution_count": 13,
   "id": "84436ec3",
   "metadata": {},
   "outputs": [
    {
     "name": "stdout",
     "output_type": "stream",
     "text": [
      "example ⇒\n",
      "{'id': 'nikluge-2025-일상_대화_연결-test-1',\n",
      " 'messages': [{'content': '당신은 주어진 발화를 듣고 질문에 답을 하는 assistant입니다. 주어진 발화를 듣고 '\n",
      "                          '화자1과 화자2의 대화에 대한 질문에 답하시오.',\n",
      "               'role': 'system'},\n",
      "              {'content': '[발화]\\n'\n",
      "                          '화자1: 뭘 해서 먹어야 되나 사실 걱정스럽죠잉.\\n'\n",
      "                          '\\n'\n",
      "                          '[질문]\\n'\n",
      "                          '아래의 선지 중, 위의 화자1의 발화 이전에 화자2가 했을 발화로 가장 적절한 것을 '\n",
      "                          '고르시오.\\n'\n",
      "                          '\\n'\n",
      "                          '[선지]\\n'\n",
      "                          'A. 화자2: 끼니를 챙기는 것도 걱정이네요.\\n'\n",
      "                          'B. 화자2: 나이를 먹는 것도 걱정이네요.\\n'\n",
      "                          'C. 화자2: 욕을 먹는 것도 걱정이네요.\\n'\n",
      "                          '\\n'\n",
      "                          'A, B, C 를 제외한 그 무엇도 출력하지 마시오. \\n'\n",
      "                          'Return your answer only — no additional text.',\n",
      "               'role': 'user'}],\n",
      " 'output': '발화1 | 발화2 | 발화3 중 하나'}\n"
     ]
    }
   ],
   "source": [
    "processed = []\n",
    "\n",
    "for sample in raw:\n",
    "    inp = sample[\"input\"]\n",
    "    user_msg = textwrap.dedent(f\"\"\"\\\n",
    "        [발화]\n",
    "        화자1: {inp['대상발화']}\n",
    "\n",
    "        [질문]\n",
    "        아래의 선지 중, {inp['question']}\n",
    "\n",
    "        [선지]\n",
    "        A. 화자2: {inp['발화1']}\n",
    "        B. 화자2: {inp['발화2']}\n",
    "        C. 화자2: {inp['발화3']}\n",
    "\n",
    "        A, B, C 를 제외한 그 무엇도 출력하지 마시오. \n",
    "        Return your answer only — no additional text.\"\"\")\n",
    "    \n",
    "    processed.append({\n",
    "        \"id\": sample[\"id\"],\n",
    "        \"messages\": [\n",
    "            {\"role\": \"system\",    \"content\": SYS_PROMPT},\n",
    "            {\"role\": \"user\",      \"content\": user_msg},\n",
    "            #{\"role\": \"assistant\", \"content\": key_to_letter(sample[\"output\"])}\n",
    "        ],\n",
    "        \"output\": \"발화1 | 발화2 | 발화3 중 하나\"\n",
    "    })\n",
    "\n",
    "print(\"example ⇒\"); pprint.pprint(processed[0], depth=3)\n"
   ]
  },
  {
   "cell_type": "code",
   "execution_count": 14,
   "id": "fbf23cd7",
   "metadata": {},
   "outputs": [
    {
     "name": "stdout",
     "output_type": "stream",
     "text": [
      "✔️ Saved 478 samples → /Users/taeyoonkwack/Documents/HCLT-KACL-2025/Korean_Dialouge_Conjunction/dataset/finetuning_data/test.json\n"
     ]
    }
   ],
   "source": [
    "with DST.open(\"w\", encoding=\"utf-8\") as f:\n",
    "    json.dump(processed, f, ensure_ascii=False, indent=2)\n",
    "\n",
    "print(f\"✔️ Saved {len(processed):,} samples → {DST.resolve()}\")"
   ]
  }
 ],
 "metadata": {
  "kernelspec": {
   "display_name": "multi-agent",
   "language": "python",
   "name": "python3"
  },
  "language_info": {
   "codemirror_mode": {
    "name": "ipython",
    "version": 3
   },
   "file_extension": ".py",
   "mimetype": "text/x-python",
   "name": "python",
   "nbconvert_exporter": "python",
   "pygments_lexer": "ipython3",
   "version": "3.13.5"
  }
 },
 "nbformat": 4,
 "nbformat_minor": 5
}
