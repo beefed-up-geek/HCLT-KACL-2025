{
 "cells": [
  {
   "cell_type": "code",
   "execution_count": 1,
   "id": "f1228e83",
   "metadata": {},
   "outputs": [],
   "source": [
    "import json\n",
    "from pathlib import Path\n",
    "from tqdm import tqdm   # 진행바\n",
    "\n",
    "CATEGORY_QUESTION_MAP = {\n",
    "    \"원인\":    \"Select the option that best explains why the event occurred in the preceding context.\",\n",
    "    \"후행사건\": \"Choose the next event that is most likely to happen after the dialogue above.\",\n",
    "    \"전제\": \"What condition must be in place first for the event to occur?\",\n",
    "    \"동기\": \"Based on the dialogue, select the option that best represents the speaker's inner motive or desire.\",\n",
    "    \"반응\": \"Select the emotional state the speaker is displaying in the dialogue above.\"\n",
    "}"
   ]
  },
  {
   "cell_type": "code",
   "execution_count": 2,
   "id": "5a510f07",
   "metadata": {},
   "outputs": [],
   "source": [
    "input_path  = Path(\"../dataset/dev_english.json\")               \n",
    "output_path = Path(\"../dataset/dev_eng_question_added.json\")\n",
    "\n",
    "with input_path.open(\"r\", encoding=\"utf-8\") as f:\n",
    "    dataset = json.load(f)"
   ]
  },
  {
   "cell_type": "code",
   "execution_count": 3,
   "id": "e9182925",
   "metadata": {},
   "outputs": [
    {
     "name": "stderr",
     "output_type": "stream",
     "text": [
      "Adding questions:   0%|          | 0/151 [00:00<?, ?sample/s, added=6]"
     ]
    },
    {
     "name": "stderr",
     "output_type": "stream",
     "text": [
      "Adding questions: 100%|██████████| 151/151 [00:00<00:00, 4187.59sample/s, added=151]"
     ]
    },
    {
     "name": "stdout",
     "output_type": "stream",
     "text": [
      "✅ 질문 151개 추가 완료 · 저장 경로: /Users/taeyoonkwack/Documents/HCLT-KACL-2025/dataset/dev_eng_question_added.json\n"
     ]
    },
    {
     "name": "stderr",
     "output_type": "stream",
     "text": [
      "\n"
     ]
    }
   ],
   "source": [
    "added_cnt = 0\n",
    "pbar = tqdm(dataset, desc=\"Adding questions\", unit=\"sample\")\n",
    "\n",
    "for sample in pbar:\n",
    "    category = sample.get(\"input\", {}).get(\"category\", \"\")\n",
    "    question = CATEGORY_QUESTION_MAP.get(category)\n",
    "\n",
    "    if question:\n",
    "        sample[\"input\"][\"question\"] = question\n",
    "        added_cnt += 1\n",
    "    \n",
    "    # 진행바 우측에 누적 추가 수 표시\n",
    "    pbar.set_postfix({\"added\": added_cnt})\n",
    "\n",
    "pbar.close()\n",
    "\n",
    "with output_path.open(\"w\", encoding=\"utf-8\") as f:\n",
    "    json.dump(dataset, f, ensure_ascii=False, indent=2)\n",
    "\n",
    "print(f\"✅ 질문 {added_cnt}개 추가 완료 · 저장 경로: {output_path.resolve()}\")\n"
   ]
  }
 ],
 "metadata": {
  "kernelspec": {
   "display_name": "multi-agent",
   "language": "python",
   "name": "python3"
  },
  "language_info": {
   "codemirror_mode": {
    "name": "ipython",
    "version": 3
   },
   "file_extension": ".py",
   "mimetype": "text/x-python",
   "name": "python",
   "nbconvert_exporter": "python",
   "pygments_lexer": "ipython3",
   "version": "3.13.5"
  }
 },
 "nbformat": 4,
 "nbformat_minor": 5
}
