{
 "cells": [
  {
   "cell_type": "code",
   "execution_count": 2,
   "id": "9ee4e708",
   "metadata": {},
   "outputs": [],
   "source": [
    "import json\n",
    "from pathlib import Path\n",
    "from tqdm import tqdm\n",
    "from dotenv import load_dotenv\n",
    "import os\n",
    "from langchain_openai import ChatOpenAI\n",
    "from langchain_core.prompts import ChatPromptTemplate\n",
    "\n",
    "load_dotenv()  # .env 파일에 OPENAI_API_KEY가 있어야 함\n",
    "\n",
    "llm = ChatOpenAI(\n",
    "    model=\"gpt-4o-mini\",\n",
    "    temperature=0,\n",
    "    request_timeout=60,\n",
    "    api_key=os.environ[\"OPENAI_API_KEY\"]\n",
    ")"
   ]
  },
  {
   "cell_type": "code",
   "execution_count": 5,
   "id": "9d751aa7",
   "metadata": {},
   "outputs": [],
   "source": [
    "system_prompt = \"\"\"\n",
    "You are a professional Korean-to-English translator.\n",
    "Translate the given sentence into natural English.\n",
    "\\\"화자 n\\\" in the given sentence should be translated to \\\"speaker n\\\".\n",
    "Return the translated sentence only — no additional text.\n",
    "\"\"\"\n",
    "\n",
    "translate_prompt = ChatPromptTemplate.from_messages([\n",
    "    (\"system\", system_prompt.strip()),\n",
    "    (\"human\", \"{source}\")\n",
    "])\n",
    "\n",
    "input_path  = Path(\"../dataset/dev_eng_question_added.json\")  # 기존 파일\n",
    "output_path = Path(\"../dataset/dev_eng_final.json\")    # 결과 저장\n",
    "\n",
    "with input_path.open(\"r\", encoding=\"utf-8\") as f:\n",
    "    dataset = json.load(f)"
   ]
  },
  {
   "cell_type": "code",
   "execution_count": 6,
   "id": "ecdc6525",
   "metadata": {},
   "outputs": [
    {
     "name": "stderr",
     "output_type": "stream",
     "text": [
      "Translating inferences: 100%|██████████| 453/453 [08:01<00:00,  1.06s/sentence]"
     ]
    },
    {
     "name": "stdout",
     "output_type": "stream",
     "text": [
      "✅ 번역 완료 · 저장 경로: /Users/taeyoonkwack/Documents/HCLT-KACL-2025/dataset/dev_eng_final.json\n"
     ]
    },
    {
     "name": "stderr",
     "output_type": "stream",
     "text": [
      "\n"
     ]
    }
   ],
   "source": [
    "# 전체 번역 대상 문장 수 계산 (inference_1~3)\n",
    "total_sentences = 0\n",
    "for s in dataset:\n",
    "    for k in (\"inference_1\", \"inference_2\", \"inference_3\"):\n",
    "        if s[\"input\"].get(k):\n",
    "            total_sentences += 1\n",
    "\n",
    "# ─────────────────────────────────────────────────────────────\n",
    "# 4) 번역 수행 + tqdm 진행바\n",
    "# ─────────────────────────────────────────────────────────────\n",
    "progress = tqdm(total=total_sentences, desc=\"Translating inferences\", unit=\"sentence\")\n",
    "\n",
    "for sample in dataset:\n",
    "    for idx in range(1, 4):\n",
    "        key            = f\"inference_{idx}\"\n",
    "        trans_key      = f\"inference_translated_{idx}\"\n",
    "        korean_sentence = sample[\"input\"].get(key, \"\")\n",
    "\n",
    "        if korean_sentence:\n",
    "            try:\n",
    "                chain     = translate_prompt | llm\n",
    "                response  = chain.invoke({\"source\": korean_sentence})\n",
    "                english   = response.content.strip()\n",
    "            except Exception as e:\n",
    "                english   = f\"[Error] {str(e)}\"\n",
    "\n",
    "            # 추가 필드 저장\n",
    "            sample[\"input\"][trans_key] = english\n",
    "            progress.update(1)\n",
    "\n",
    "progress.close()\n",
    "\n",
    "# ─────────────────────────────────────────────────────────────\n",
    "# 5) 결과 저장\n",
    "# ─────────────────────────────────────────────────────────────\n",
    "with output_path.open(\"w\", encoding=\"utf-8\") as f:\n",
    "    json.dump(dataset, f, ensure_ascii=False, indent=2)\n",
    "\n",
    "print(f\"✅ 번역 완료 · 저장 경로: {output_path.resolve()}\")"
   ]
  }
 ],
 "metadata": {
  "kernelspec": {
   "display_name": "multi-agent",
   "language": "python",
   "name": "python3"
  },
  "language_info": {
   "codemirror_mode": {
    "name": "ipython",
    "version": 3
   },
   "file_extension": ".py",
   "mimetype": "text/x-python",
   "name": "python",
   "nbconvert_exporter": "python",
   "pygments_lexer": "ipython3",
   "version": "3.13.5"
  }
 },
 "nbformat": 4,
 "nbformat_minor": 5
}
