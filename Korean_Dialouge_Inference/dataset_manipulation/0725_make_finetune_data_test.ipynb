{
 "cells": [
  {
   "cell_type": "code",
   "execution_count": 12,
   "id": "16ec1cc2",
   "metadata": {},
   "outputs": [
    {
     "name": "stdout",
     "output_type": "stream",
     "text": [
      "151 samples loaded\n"
     ]
    }
   ],
   "source": [
    "# ❶ 라이브러리 로드 & 원본 JSON 읽기\n",
    "import json, pathlib, pprint\n",
    "\n",
    "SRC = pathlib.Path(\"/Users/taeyoonkwack/Documents/HCLT-KACL-2025/Korean_Dialouge_Inference/dataset/dev_kor.json\")\n",
    "DST = pathlib.Path(\"/Users/taeyoonkwack/Documents/HCLT-KACL-2025/Korean_Dialouge_Inference/dataset/finetuning_data/dev_kor.json\")\n",
    "\n",
    "with SRC.open(encoding=\"utf-8\") as f:\n",
    "    raw = json.load(f)\n",
    "\n",
    "print(f\"{len(raw):,} samples loaded\")"
   ]
  },
  {
   "cell_type": "code",
   "execution_count": 13,
   "id": "07be24ee",
   "metadata": {},
   "outputs": [],
   "source": [
    "def conversation_to_str(conv):\n",
    "    \"\"\"\n",
    "    [\n",
    "      {\"speaker\": 2, \"utterance\": \"안녕\"},\n",
    "      {\"speaker\": 1, \"utterance\": \"반가워\"}\n",
    "    ] -> \"화자 2: 안녕\\n화자 1: 반가워\"\n",
    "    \"\"\"\n",
    "    return \"\\n\".join(f\"화자 {turn['speaker']}: {turn['utterance']}\"\n",
    "                     for turn in conv)\n",
    "\n",
    "def key_to_letter(key):\n",
    "    \"\"\"'inference_1'|'_2'|'_3' -> 'A'|'B'|'C'\"\"\"\n",
    "    return {\"inference_1\": \"A\", \"inference_2\": \"B\", \"inference_3\": \"C\"}[key]"
   ]
  },
  {
   "cell_type": "code",
   "execution_count": 14,
   "id": "84436ec3",
   "metadata": {},
   "outputs": [
    {
     "name": "stdout",
     "output_type": "stream",
     "text": [
      "example =>\n",
      "{'id': 'nikluge-2025-대화 맥락 추론-dev-000001',\n",
      " 'messages': [{'content': '당신은 대화 맥락을 추론하는 assistant입니다. 아래의 대화 내용을 참고하여 문제의 '\n",
      "                          '정답을 맞추시오. ',\n",
      "               'role': 'system'},\n",
      "              {'content': '[대화]\\n'\n",
      "                          '화자 1: 안녕하세요! ㅎㅎ\\n'\n",
      "                          '화자 2: 안녕하세요!\\n'\n",
      "                          '화자 2: 동호회활동하세요?\\n'\n",
      "                          '화자 1: 저는 차 마시는 거 좋아해서 차 좋아하는 사람들이랑 가끔 다회 참석해요\\n'\n",
      "                          '화자 1: name2님은 동호회활동 참여하는 거 있으신가요?\\n'\n",
      "                          '화자 2: 오오\\n'\n",
      "                          '화자 2: 아니요ㅋㅋㅋ저는 없어요\\n'\n",
      "                          '화자 2: 새로운 사람 만나는 걸 즐기지는 않아서 아직 시도를 못 해봤어요 동호회!\\n'\n",
      "                          '화자 1: 아하ㅎㅎ  저는 직업상 만나는 사람들이 한정적이어서 동호회 활동을 하니까 다양한 '\n",
      "                          '사람을 만나게 되어 좋더라고요\\n'\n",
      "                          '화자 1: 저도 굉장히 내향적인 편인데 동호회 안에서 친해진 사람들하고만 만나고 있어요\\n'\n",
      "                          '화자 2: 이상하게 동호회는 목적이 다르다는 편견이 좀 있어서 망설여지더라고요!\\n'\n",
      "                          '화자 2: 물론 다 그런 게 아닌데!\\n'\n",
      "                          '화자 1: 아 무슨 말씀이신지 너무 알 것 같아요\\n'\n",
      "                          '화자 1: 불순한 목적으로 동호회 참석하는 사람들 때문에 좀 이미지가 그렇긴 하죠\\n'\n",
      "                          '화자 1: 특히 남자..들.. 이런 말 해도 되나요 ㅋㅋㅋ\\n'\n",
      "                          '화자 2: 으으 맞아요 맞아\\n'\n",
      "                          '화자 2: 안 좋은 얘기도 사실 많이 들어서...\\n'\n",
      "                          '화자 1: 제가 참석하는 차 동호회는 20대 여자가 대부분이라 더 편하게 만날 수 있는 것 '\n",
      "                          '같아요ㅠ\\n'\n",
      "                          '화자 1: 여성 동호회 쪽으로 알아보시면 좀 걱정이 덜하지 않을까요\\n'\n",
      "                          '화자 2: 오! 그런 방법이 있겠네요\\n'\n",
      "                          '화자 2: 그리고 어떤 분이 그러셨는데\\n'\n",
      "                          '화자 2: 약간 돈이 드는 동호회? 는 오히려 그런 사람이 적대요ㅋㅋㅋㅋㅋㅋ\\n'\n",
      "                          '화자 1: 돈이 드는 동호회 ㅋㅋㅋㅋㅋ  차는 돈이 좀 들어서 그런 걸까요\\n'\n",
      "                          '화자 2: 네! 그럴지도 몰라요\\n'\n",
      "                          '화자 2: 동호회는 인터넷에서 검색해서 들어가는 건가요?\\n'\n",
      "                          '화자 1: 저는 트위터로 시작해서 마음 맞는 사람들이랑 같이 만나고 있어요\\n'\n",
      "                          '화자 2: 오호 트위터!\\n'\n",
      "                          '화자 2: 그런 방법도 있네요 정말\\n'\n",
      "                          '화자 2: 트위터하면 아무래도 관심사가 비슷한 사람을 만나게 되니까요\\n'\n",
      "                          '화자 1: 맞아요 맞아요\\n'\n",
      "                          '\\n'\n",
      "                          '[질문]\\n'\n",
      "                          '아래의 선지 중, 위 대화 이후 일어날 가능성이 가장 높은 ‘다음 사건’을 선택하세요.\\n'\n",
      "                          '\\n'\n",
      "                          '[선지]\\n'\n",
      "                          'A. 화자2는 미혼 남녀 대상의 동호회를 알아볼 것이다. \\n'\n",
      "                          'B. 화자2는 가입 가능한 여성 동호회를 알아볼 것이다.\\n'\n",
      "                          'C. 화자2는 연애를 할 목적으로 동호회를 알아볼 것이다.\\n'\n",
      "                          '\\n'\n",
      "                          'A, B, C 를 제외한 그 무엇도 출력하지 마시오. \\n'\n",
      "                          'Return your answer only — no additional text.',\n",
      "               'role': 'user'},\n",
      "              {'content': 'B', 'role': 'assistant'}]}\n"
     ]
    }
   ],
   "source": [
    "processed = []\n",
    "SYSTEM_PROMPT = \"당신은 대화 맥락을 추론하는 assistant입니다. 아래의 대화 내용을 참고하여 문제의 정답을 맞추시오. \"\n",
    "\n",
    "for sample in raw:\n",
    "    inp  = sample[\"input\"]\n",
    "    conv = conversation_to_str(inp[\"conversation\"])\n",
    "\n",
    "    user_msg = f\"\"\"[대화]\n",
    "{conv}\n",
    "\n",
    "[질문]\n",
    "아래의 선지 중, {inp['question']}\n",
    "\n",
    "[선지]\n",
    "A. {inp['inference_1']}\n",
    "B. {inp['inference_2']}\n",
    "C. {inp['inference_3']}\n",
    "\n",
    "A, B, C 를 제외한 그 무엇도 출력하지 마시오. \n",
    "Return your answer only — no additional text.\"\"\"\n",
    "    assistant_msg = key_to_letter(sample[\"output\"])\n",
    "\n",
    "    processed.append({\n",
    "        \"id\": sample[\"id\"],\n",
    "        \"messages\": [\n",
    "            {\"role\": \"system\",    \"content\": SYSTEM_PROMPT},\n",
    "            {\"role\": \"user\",      \"content\": user_msg},\n",
    "            {\"role\": \"assistant\", \"content\": assistant_msg}\n",
    "        ]\n",
    "    })\n",
    "print(\"example =>\"); pprint.pprint(processed[0], depth=3)"
   ]
  },
  {
   "cell_type": "code",
   "execution_count": 11,
   "id": "fbf23cd7",
   "metadata": {},
   "outputs": [
    {
     "name": "stdout",
     "output_type": "stream",
     "text": [
      "✔️ Saved 151 samples → /Users/taeyoonkwack/Documents/HCLT-KACL-2025/Korean_Dialouge_Inference/dataset/finetuning_data/dev_kor.json\n"
     ]
    }
   ],
   "source": [
    "with DST.open(\"w\", encoding=\"utf-8\") as f:\n",
    "    json.dump(processed, f, ensure_ascii=False, indent=2)\n",
    "\n",
    "print(f\"✔️ Saved {len(processed):,} samples → {DST.resolve()}\")"
   ]
  }
 ],
 "metadata": {
  "kernelspec": {
   "display_name": "multi-agent",
   "language": "python",
   "name": "python3"
  },
  "language_info": {
   "codemirror_mode": {
    "name": "ipython",
    "version": 3
   },
   "file_extension": ".py",
   "mimetype": "text/x-python",
   "name": "python",
   "nbconvert_exporter": "python",
   "pygments_lexer": "ipython3",
   "version": "3.13.5"
  }
 },
 "nbformat": 4,
 "nbformat_minor": 5
}
