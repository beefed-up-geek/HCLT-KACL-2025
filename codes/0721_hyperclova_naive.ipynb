{
 "cells": [
  {
   "cell_type": "code",
   "execution_count": 14,
   "id": "94ff5744",
   "metadata": {},
   "outputs": [],
   "source": [
    "#pip install -U langchain # install LangChain\n",
    "#pip install -U langchain-naver \n",
    "from langchain_core.prompts import ChatPromptTemplate\n",
    "from dotenv import load_dotenv\n",
    "from pathlib import Path\n",
    "import json\n",
    "import os\n",
    "\n",
    "load_dotenv()\n",
    "api_key = os.getenv(\"CLOVASTUDIO_API_KEY\")  \n",
    "\n",
    "input_path  = Path(\"../dataset/dev_question_added.json\")               \n",
    "\n",
    "with input_path.open(\"r\", encoding=\"utf-8\") as f:\n",
    "    dataset = json.load(f)"
   ]
  },
  {
   "cell_type": "code",
   "execution_count": 15,
   "id": "20b813f1",
   "metadata": {},
   "outputs": [],
   "source": [
    "from langchain_naver import ChatClovaX\n",
    "\n",
    "llm = ChatClovaX(\n",
    "    model=\"HCX-005\",        # default general-purpose chat model\n",
    "    temperature=0,          # deterministic, same as before\n",
    "    timeout=60,             # ≈ OpenAI's request_timeout\n",
    "    api_key=api_key         # optional if it's already in the env\n",
    ")\n",
    "system_prompt = \"\"\"\n",
    "당신은 대화 맥락을 추론하는 assistant입니다. \n",
    "아래의 대화 내용을 참고하여 문제의 정답을 맞추시오. \n",
    "\"\"\"\n",
    "\n",
    "integrated_prompt = ChatPromptTemplate.from_messages([\n",
    "    (\"system\", system_prompt.strip()),\n",
    "    (\"human\", '''\n",
    "[대화]\n",
    "{transcript}\n",
    "\n",
    "[질문]\n",
    "아래의 선지 중, {question}\n",
    "\n",
    "[선지]\n",
    "{inferences}\n",
    "A, B, C 를 제외한 그 무엇도 출력하지 마시오. \n",
    "Return your answer only — no additional text.\n",
    "''')\n",
    "])\n",
    "\n",
    "chain = integrated_prompt | llm   "
   ]
  },
  {
   "cell_type": "code",
   "execution_count": 16,
   "id": "e10fa3cb",
   "metadata": {},
   "outputs": [],
   "source": [
    "def make_transcript(conversation: list[dict]) -> str:\n",
    "    \"\"\"화자 1: ..., 화자 2: ... 형식으로 변환\"\"\"\n",
    "    return \"\\n\".join(\n",
    "        f\"화자 {turn['speaker']}: {turn['utterance']}\"\n",
    "        for turn in conversation\n",
    "    )\n",
    "\n",
    "def make_inferences(item: dict) -> str:\n",
    "    \"\"\"선지를 A/B/C 형식으로 변환\"\"\"\n",
    "    return (\n",
    "        f\"A. {item['inference_1']}\\n\"\n",
    "        f\"B. {item['inference_2']}\\n\"\n",
    "        f\"C. {item['inference_3']}\"\n",
    "    )"
   ]
  },
  {
   "cell_type": "code",
   "execution_count": 22,
   "id": "57acf9cb",
   "metadata": {},
   "outputs": [],
   "source": [
    "from tqdm import tqdm  \n",
    "from collections import defaultdict\n",
    "import pandas as pd\n",
    "\n",
    "def evaluate(dataset: list[dict], csv_path: str = \"results.csv\") -> None:\n",
    "    \"\"\"Run the chain only for items not yet answered and append to csv_path.\"\"\"\n",
    "\n",
    "    # --- load any existing log ---\n",
    "    if os.path.exists(csv_path):                         # file exists ✔\n",
    "        answered_df = pd.read_csv(csv_path)\n",
    "        answered_ids = set(answered_df[\"id\"])\n",
    "    else:\n",
    "        answered_df = pd.DataFrame(\n",
    "            columns=[\"id\", \"category\", \"ground_truth\", \"llm_answer\"]\n",
    "        )\n",
    "        answered_ids = set()\n",
    "\n",
    "    # --- main loop ---\n",
    "    buffer = []                                          # row buffer to reduce I/O\n",
    "    for record in tqdm(dataset, desc=\"Evaluating\", unit=\"item\"):\n",
    "        if record[\"id\"] in answered_ids:\n",
    "            continue                                     # already done\n",
    "\n",
    "        inp = record[\"input\"]\n",
    "        prompt_vars = {\n",
    "            \"transcript\": make_transcript(inp[\"conversation\"]),\n",
    "            \"question\":  inp[\"question\"],\n",
    "            \"inferences\": make_inferences(inp),\n",
    "        }\n",
    "\n",
    "        # try / except → stop cleanly on API issues (e.g. RateLimitError 429)\n",
    "        try:\n",
    "            answer = chain.invoke(prompt_vars).content.strip()     # \"A\" | \"B\" | \"C\"\n",
    "        except Exception as err:\n",
    "            print(f\"[ERROR] {err!r} — stopping early, progress saved.\")\n",
    "            break\n",
    "\n",
    "        buffer.append({\n",
    "            \"id\": record[\"id\"],\n",
    "            \"category\": inp[\"category\"],\n",
    "            \"ground_truth\": record[\"output\"],\n",
    "            \"llm_answer\": answer,\n",
    "        })\n",
    "\n",
    "        # flush every 10 records\n",
    "        if len(buffer) >= 10:\n",
    "            pd.DataFrame(buffer).to_csv(\n",
    "                csv_path,\n",
    "                mode=\"a\",\n",
    "                header=not os.path.exists(csv_path),     # header only once\n",
    "                index=False,\n",
    "                encoding=\"utf-8-sig\",\n",
    "            )\n",
    "            buffer.clear()\n",
    "\n",
    "    # flush any remainder\n",
    "    if buffer:\n",
    "        pd.DataFrame(buffer).to_csv(\n",
    "            csv_path,\n",
    "            mode=\"a\",\n",
    "            header=not os.path.exists(csv_path),\n",
    "            index=False,\n",
    "            encoding=\"utf-8-sig\",\n",
    "        )\n",
    "\n",
    "def print_results(csv_path: str = \"results.csv\") -> None:\n",
    "    \"\"\"Load csv_path and display accuracy by category + overall.\"\"\"\n",
    "\n",
    "    if not os.path.exists(csv_path):\n",
    "        print(\"No results file found — run evaluate() first.\")\n",
    "        return\n",
    "\n",
    "    df = pd.read_csv(csv_path)\n",
    "    if df.empty:\n",
    "        print(\"Results file is empty.\")\n",
    "        return\n",
    "\n",
    "    df[\"correct\"] = df[\"ground_truth\"] == df[\"llm_answer\"]\n",
    "\n",
    "    print(\"=== 문제 유형별 정답률 ===\")\n",
    "    for cat, group in df.groupby(\"category\"):\n",
    "        corr = group[\"correct\"].sum()\n",
    "        tot = len(group)\n",
    "        print(f\"{cat}: {corr}/{tot} = {corr / tot:.2%}\")\n",
    "\n",
    "    overall_corr = df[\"correct\"].sum()\n",
    "    overall_tot = len(df)\n",
    "    print(\"\\n=== 전체 정답률 ===\")\n",
    "    print(f\"{overall_corr}/{overall_tot} = {overall_corr / overall_tot:.2%}\")\n"
   ]
  },
  {
   "cell_type": "code",
   "execution_count": 24,
   "id": "f62cf292",
   "metadata": {},
   "outputs": [
    {
     "name": "stderr",
     "output_type": "stream",
     "text": [
      "Evaluating:  37%|███▋      | 56/151 [00:01<00:03, 30.85item/s]"
     ]
    },
    {
     "name": "stdout",
     "output_type": "stream",
     "text": [
      "[ERROR] RateLimitError(\"Error code: 429 - {'error': {'message': 'Too many requests - rate exceeded', 'code': '42901'}}\") — stopping early, progress saved.\n"
     ]
    },
    {
     "name": "stderr",
     "output_type": "stream",
     "text": [
      "\n"
     ]
    }
   ],
   "source": [
    "evaluate(dataset)"
   ]
  },
  {
   "cell_type": "code",
   "execution_count": null,
   "id": "a07b480a",
   "metadata": {},
   "outputs": [],
   "source": [
    "print_results()"
   ]
  }
 ],
 "metadata": {
  "kernelspec": {
   "display_name": "multi-agent",
   "language": "python",
   "name": "python3"
  },
  "language_info": {
   "codemirror_mode": {
    "name": "ipython",
    "version": 3
   },
   "file_extension": ".py",
   "mimetype": "text/x-python",
   "name": "python",
   "nbconvert_exporter": "python",
   "pygments_lexer": "ipython3",
   "version": "3.13.5"
  }
 },
 "nbformat": 4,
 "nbformat_minor": 5
}
