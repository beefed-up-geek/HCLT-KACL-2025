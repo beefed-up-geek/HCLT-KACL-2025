{
 "cells": [
  {
   "cell_type": "code",
   "execution_count": 1,
   "id": "94ff5744",
   "metadata": {},
   "outputs": [],
   "source": [
    "#pip install -U langchain # install LangChain\n",
    "#pip install -U langchain-naver \n",
    "from langchain_core.prompts import ChatPromptTemplate\n",
    "from dotenv import load_dotenv\n",
    "from pathlib import Path\n",
    "import json\n",
    "import os\n",
    "\n",
    "load_dotenv()\n",
    "api_key = os.getenv(\"CLOVASTUDIO_API_KEY\")  \n",
    "\n",
    "input_path  = Path(\"../dataset/dev_eng_final.json\")               \n",
    "\n",
    "with input_path.open(\"r\", encoding=\"utf-8\") as f:\n",
    "    dataset = json.load(f)"
   ]
  },
  {
   "cell_type": "code",
   "execution_count": 3,
   "id": "20b813f1",
   "metadata": {},
   "outputs": [],
   "source": [
    "from langchain_naver import ChatClovaX\n",
    "\n",
    "llm = ChatClovaX(\n",
    "    model=\"HCX-005\",        # default general-purpose chat model\n",
    "    temperature=0,          # deterministic, same as before\n",
    "    timeout=60,             # ≈ OpenAI's request_timeout\n",
    "    api_key=api_key         # optional if it's already in the env\n",
    ")\n",
    "system_prompt = \"\"\"\n",
    "You are an assistant that infers conversational context.\n",
    "Based on the dialogue below, choose the correct answer.\n",
    "\"\"\"\n",
    "\n",
    "integrated_prompt = ChatPromptTemplate.from_messages([\n",
    "    (\"system\", system_prompt.strip()),\n",
    "    (\"human\", '''\n",
    "[Conversation]\n",
    "{transcript}\n",
    "\n",
    "[Question]\n",
    "Among the options below, {question}\n",
    "\n",
    "[Options]\n",
    "{inferences}\n",
    "     \n",
    "Do not output anything except A, B, or C.\n",
    "Return your answer only — no additional text.\n",
    "''')\n",
    "])\n",
    "\n",
    "\n",
    "chain = integrated_prompt | llm   "
   ]
  },
  {
   "cell_type": "code",
   "execution_count": 4,
   "id": "e10fa3cb",
   "metadata": {},
   "outputs": [],
   "source": [
    "def make_transcript(conversation: list[dict]) -> str:\n",
    "    \"\"\"화자 1: ..., 화자 2: ... 형식으로 변환\"\"\"\n",
    "    return \"\\n\".join(\n",
    "        f\"speaker {turn['speaker']}: {turn['translated_utterance']}\"\n",
    "        for turn in conversation\n",
    "    )\n",
    "\n",
    "def make_inferences(item: dict) -> str:\n",
    "    \"\"\"선지를 A/B/C 형식으로 변환\"\"\"\n",
    "    return (\n",
    "        f\"A. {item['inference_translated_1']}\\n\"\n",
    "        f\"B. {item['inference_translated_2']}\\n\"\n",
    "        f\"C. {item['inference_translated_3']}\"\n",
    "    )"
   ]
  },
  {
   "cell_type": "code",
   "execution_count": 15,
   "id": "57acf9cb",
   "metadata": {},
   "outputs": [],
   "source": [
    "from tqdm import tqdm\n",
    "from collections import defaultdict\n",
    "import pandas as pd\n",
    "import os\n",
    "import time\n",
    "\n",
    "def evaluate(dataset: list[dict], csv_path: str = \"eng_HCX-005.csv\") -> None:\n",
    "    \"\"\"\n",
    "    Collect LLM answers (raw + mapped) and append to `csv_path`.\n",
    "    Resumes automatically if the CSV already contains some rows.\n",
    "    \"\"\"\n",
    "\n",
    "    # --- load any existing log ---\n",
    "    if os.path.exists(csv_path):\n",
    "        answered_df = pd.read_csv(csv_path)\n",
    "        answered_ids = set(answered_df[\"id\"])\n",
    "    else:\n",
    "        answered_df = pd.DataFrame(\n",
    "            columns=[\n",
    "                \"id\", \"category\", \"ground_truth\",\n",
    "                \"llm_answer_raw\", \"llm_answer\"\n",
    "            ]\n",
    "        )\n",
    "        answered_ids = set()\n",
    "\n",
    "    # --- main loop ---\n",
    "    buffer = []\n",
    "    for record in tqdm(dataset, desc=\"Evaluating\", unit=\"item\"):\n",
    "        if record[\"id\"] in answered_ids:\n",
    "            continue\n",
    "\n",
    "        inp = record[\"input\"]\n",
    "        prompt_vars = {\n",
    "            \"transcript\": make_transcript(inp[\"conversation\"]),\n",
    "            \"question\":  inp[\"question\"],\n",
    "            \"inferences\": make_inferences(inp),\n",
    "        }\n",
    "\n",
    "        # retry on rate-limit (429) by sleeping 61 s\n",
    "        while True:\n",
    "            try:\n",
    "                answer_raw = chain.invoke(prompt_vars).content.strip()  # \"A\"|\"B\"|\"C\"\n",
    "                break\n",
    "            except Exception as err:\n",
    "                if \"429\" in str(err) or \"rate exceeded\" in str(err).lower():\n",
    "                    print(\"[RateLimit] 429 encountered — sleeping 61 s …\")\n",
    "                    time.sleep(61)\n",
    "                    continue\n",
    "                print(f\"[ERROR] {err!r} — stopping early, progress saved.\")\n",
    "                # flush buffer before exiting\n",
    "                if buffer:\n",
    "                    pd.DataFrame(buffer).to_csv(\n",
    "                        csv_path,\n",
    "                        mode=\"a\",\n",
    "                        header=not os.path.exists(csv_path),\n",
    "                        index=False,\n",
    "                        encoding=\"utf-8-sig\",\n",
    "                    )\n",
    "                return  # abort whole evaluation\n",
    "\n",
    "        # map A/B/C → 실제 선지 내용\n",
    "        letter_to_key = {\"A\": \"inference_1\", \"B\": \"inference_2\", \"C\": \"inference_3\"}\n",
    "        key = letter_to_key.get(answer_raw)\n",
    "        llm_answer = key if key else \"\"\n",
    "\n",
    "        buffer.append({\n",
    "            \"id\": record[\"id\"],\n",
    "            \"category\": inp[\"category\"],\n",
    "            \"ground_truth\": record[\"output\"],\n",
    "            \"llm_answer_raw\": answer_raw,\n",
    "            \"llm_answer\": llm_answer,\n",
    "        })\n",
    "\n",
    "        # flush every 10 rows\n",
    "        if len(buffer) >= 10:\n",
    "            pd.DataFrame(buffer).to_csv(\n",
    "                csv_path,\n",
    "                mode=\"a\",\n",
    "                header=not os.path.exists(csv_path),\n",
    "                index=False,\n",
    "                encoding=\"utf-8-sig\",\n",
    "            )\n",
    "            buffer.clear()\n",
    "\n",
    "    # flush any leftover rows\n",
    "    if buffer:\n",
    "        pd.DataFrame(buffer).to_csv(\n",
    "            csv_path,\n",
    "            mode=\"a\",\n",
    "            header=not os.path.exists(csv_path),\n",
    "            index=False,\n",
    "            encoding=\"utf-8-sig\",\n",
    "        )\n",
    "\n",
    "def print_results(csv_path: str = \"eng_HCX-005.csv\") -> None:\n",
    "    \"\"\"Read `csv_path` and display accuracy by category + overall.\"\"\"\n",
    "    if not os.path.exists(csv_path):\n",
    "        print(\"No results file found — run evaluate() first.\")\n",
    "        return\n",
    "\n",
    "    df = pd.read_csv(csv_path)\n",
    "    if df.empty:\n",
    "        print(\"Results file is empty.\")\n",
    "        return\n",
    "\n",
    "    df[\"correct\"] = df[\"ground_truth\"] == df[\"llm_answer\"]\n",
    "\n",
    "    print(\"=== 문제 유형별 정답률 ===\")\n",
    "    for cat, group in df.groupby(\"category\"):\n",
    "        corr = group[\"correct\"].sum()\n",
    "        tot = len(group)\n",
    "        print(f\"{cat}: {corr}/{tot} = {corr / tot:.2%}\")\n",
    "\n",
    "    overall_corr = df[\"correct\"].sum()\n",
    "    overall_tot = len(df)\n",
    "    print(\"\\n=== 전체 정답률 ===\")\n",
    "    print(f\"{overall_corr}/{overall_tot} = {overall_corr / overall_tot:.2%}\")\n"
   ]
  },
  {
   "cell_type": "code",
   "execution_count": 16,
   "id": "f62cf292",
   "metadata": {},
   "outputs": [
    {
     "name": "stderr",
     "output_type": "stream",
     "text": [
      "Evaluating:  40%|███▉      | 60/151 [00:25<00:46,  1.96item/s]"
     ]
    },
    {
     "name": "stdout",
     "output_type": "stream",
     "text": [
      "[RateLimit] 429 encountered — sleeping 61 s …\n"
     ]
    },
    {
     "name": "stderr",
     "output_type": "stream",
     "text": [
      "Evaluating:  79%|███████▉  | 120/151 [01:49<00:10,  2.86item/s]"
     ]
    },
    {
     "name": "stdout",
     "output_type": "stream",
     "text": [
      "[RateLimit] 429 encountered — sleeping 61 s …\n"
     ]
    },
    {
     "name": "stderr",
     "output_type": "stream",
     "text": [
      "Evaluating: 100%|██████████| 151/151 [03:02<00:00,  1.21s/item]\n"
     ]
    }
   ],
   "source": [
    "evaluate(dataset)"
   ]
  },
  {
   "cell_type": "code",
   "execution_count": 17,
   "id": "a07b480a",
   "metadata": {},
   "outputs": [
    {
     "name": "stdout",
     "output_type": "stream",
     "text": [
      "=== 문제 유형별 정답률 ===\n",
      "동기: 22/25 = 88.00%\n",
      "반응: 21/25 = 84.00%\n",
      "원인: 19/25 = 76.00%\n",
      "전제: 21/25 = 84.00%\n",
      "후행사건: 42/51 = 82.35%\n",
      "\n",
      "=== 전체 정답률 ===\n",
      "125/151 = 82.78%\n"
     ]
    }
   ],
   "source": [
    "print_results()"
   ]
  }
 ],
 "metadata": {
  "kernelspec": {
   "display_name": "multi-agent",
   "language": "python",
   "name": "python3"
  },
  "language_info": {
   "codemirror_mode": {
    "name": "ipython",
    "version": 3
   },
   "file_extension": ".py",
   "mimetype": "text/x-python",
   "name": "python",
   "nbconvert_exporter": "python",
   "pygments_lexer": "ipython3",
   "version": "3.13.5"
  }
 },
 "nbformat": 4,
 "nbformat_minor": 5
}
